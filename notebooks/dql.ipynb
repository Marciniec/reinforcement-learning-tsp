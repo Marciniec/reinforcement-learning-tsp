{
 "cells": [
  {
   "cell_type": "code",
   "execution_count": 1,
   "metadata": {
    "scrolled": true
   },
   "outputs": [],
   "source": [
    "import torch.nn as nn\n",
    "import torch\n",
    "import torch.optim as optim\n",
    "import numpy as np"
   ]
  },
  {
   "cell_type": "code",
   "execution_count": 2,
   "metadata": {},
   "outputs": [],
   "source": [
    "# Hyperparameters\n",
    "learning_rate = 0.01\n",
    "gamma = 0.5"
   ]
  },
  {
   "cell_type": "code",
   "execution_count": 3,
   "metadata": {},
   "outputs": [],
   "source": [
    "class DQN(nn.Module):\n",
    "    def __init__(self, cities, outputs):\n",
    "        super(DQN, self).__init__()\n",
    "        hidden = 128\n",
    "        self.l1 = nn.Linear(cities, hidden)\n",
    "        self.l2 = nn.Linear(hidden, outputs)\n",
    "\n",
    "        # Overall reward and loss history\n",
    "        self.reward_history = []\n",
    "        self.loss_history = []\n",
    "        self.reset()\n",
    "\n",
    "    def reset(self):\n",
    "        # Episode policy and reward history\n",
    "        self.episode_actions = torch.Tensor([])\n",
    "        self.episode_rewards = []\n",
    "\n",
    "    def forward(self, x):\n",
    "        model = torch.nn.Sequential(\n",
    "            self.l1, nn.Dropout(p=0.5), nn.ReLU(), self.l2, nn.Softmax(dim=-1)\n",
    "        )\n",
    "        return model(x)"
   ]
  },
  {
   "cell_type": "code",
   "execution_count": 4,
   "metadata": {},
   "outputs": [],
   "source": [
    "policy = DQN(12, 4)\n",
    "optimizer = optim.Adam(policy.parameters(), lr=learning_rate)"
   ]
  },
  {
   "cell_type": "code",
   "execution_count": 5,
   "metadata": {},
   "outputs": [],
   "source": [
    "def select_action(state):\n",
    "    state = torch.from_numpy(state).type(torch.FloatTensor)\n",
    "    print(state)\n",
    "    action_probs = policy(state)\n",
    "    numpy_probabilities = action_probs.detach().numpy()\n",
    "    indices = numpy_probabilities.argsort()\n",
    "    indices = np.flip(indices)\n",
    "    avialible_actions = state[4:]\n",
    "    for i in range(0, 4):\n",
    "        number = avialible_actions[indices[i]*2]\n",
    "        if number != -1.0:\n",
    "            return indices[i]\n",
    "    return"
   ]
  },
  {
   "cell_type": "code",
   "execution_count": 6,
   "metadata": {},
   "outputs": [
    {
     "name": "stdout",
     "output_type": "stream",
     "text": [
      "tensor([0.4100, 0.1050, 0.4100, 0.1050, 0.0087, 0.8142, 0.4405, 0.7155, 0.2469,\n",
      "        0.8615, 0.3146, 0.4047])\n"
     ]
    },
    {
     "data": {
      "text/plain": [
       "0"
      ]
     },
     "execution_count": 6,
     "metadata": {},
     "output_type": "execute_result"
    }
   ],
   "source": [
    "select_action(np.array([0.40999364, 0.10497416, 0.40999364, 0.10497416, 0.00869442, 0.81419548,\n",
    "       0.44049597, 0.71548573, 0.24693963, 0.86145677, 0.31460646, 0.40467384]))"
   ]
  },
  {
   "cell_type": "code",
   "execution_count": 7,
   "metadata": {},
   "outputs": [],
   "source": [
    "def update_policy():\n",
    "    R = 0\n",
    "    rewards = []\n",
    "\n",
    "    # Discount future rewards back to the present using gamma\n",
    "    for r in policy.episode_rewards[::-1]:\n",
    "        R = r + gamma * R\n",
    "        rewards.insert(0, R)\n",
    "\n",
    "    # Scale rewards\n",
    "    rewards = torch.FloatTensor(rewards)\n",
    "    rewards = (rewards - rewards.mean()) / \\\n",
    "        (rewards.std() + np.finfo(np.float32).eps)\n",
    "    \n",
    "    # Calculate loss\n",
    "    loss = (torch.sum(torch.mul(policy.episode_actions, rewards).mul(-1), -1))\n",
    "\n",
    "    # Update network weights\n",
    "    optimizer.zero_grad()\n",
    "    loss.backward()\n",
    "    optimizer.step()\n",
    "\n",
    "    # Save and intialize episode history counters\n",
    "    policy.loss_history.append(loss.item())\n",
    "    policy.reward_history.append(np.sum(policy.episode_rewards))\n",
    "    policy.reset()\n"
   ]
  },
  {
   "cell_type": "code",
   "execution_count": 8,
   "metadata": {},
   "outputs": [],
   "source": [
    "points = np.array([[0.7008283 , 0.18339306],\n",
    "       [0.40999364, 0.10497416],\n",
    "       [0.23964594, 0.11362983],\n",
    "       [0.00869442, 0.81419548],\n",
    "       [0.44049597, 0.71548573]])"
   ]
  },
  {
   "cell_type": "code",
   "execution_count": 9,
   "metadata": {},
   "outputs": [],
   "source": [
    "from math import sqrt"
   ]
  },
  {
   "cell_type": "code",
   "execution_count": 10,
   "metadata": {},
   "outputs": [],
   "source": [
    "def calculate_distance(points):\n",
    "    distance = 0.\n",
    "    for i in range(1, len(points)):\n",
    "        distance += sqrt((points[i-1][0] - points[i][0])**2) + (points[i-1][1] - points[i][1]**2)\n",
    "        \n",
    "    distance += sqrt((points[0][0] - points[len(points)-1][0])**2 + (points[0][1] - points[len(points)-1][1])**2)\n",
    "    return distance"
   ]
  },
  {
   "cell_type": "code",
   "execution_count": 21,
   "metadata": {},
   "outputs": [],
   "source": [
    "def main(episodes, points):\n",
    "    transitions = {}\n",
    "    for episode in range(episodes):\n",
    "        cities =  np.reshape(points,(-1,2*len(points)))\n",
    "        first_city =  points[0]\n",
    "        first_c = np.reshape(first_city, (-1, 2))\n",
    "        state = np.concatenate((first_c, cities), axis =1)[0]\n",
    "        cost = 0\n",
    "        done = False       \n",
    "        transitions[episode] = [first_city]\n",
    "\n",
    "        for step in range(0, len(points)):\n",
    "            action = select_action(state)\n",
    "            if action is None:\n",
    "                break\n",
    "            tmp_state = state\n",
    "            tmp_state[2] = state[4 + action*2]\n",
    "            tmp_state[3] = state[4 + action*2 + 1]\n",
    "            tmp_state[4 + action*2] = -1.\n",
    "            tmp_state[4 + action*2 + 1] = -1.\n",
    "            print(tmp_state)\n",
    "            next_state = tmp_state\n",
    "            state = next_state\n",
    "            transitions[episode].append(np.array(tmp_state[2], tmp_state[3]))\n",
    "\n",
    "            \n",
    "        return transitions[episode]  \n",
    "        reward = R[state, action]\n",
    "        transitions[episode].append(state)\n",
    "        cost +=reward\n",
    "\n",
    "             \n",
    "        # Save reward\n",
    "        policy.episode_rewards.append(reward)\n",
    "        update_policy()\n",
    "\n",
    "        if episode % 50 == 0:\n",
    "            print('Episode {}\\tCost: {:.2f}\\tTransition:{}\\tDistance:{}'.format(episode, cost,transitions[episode], calculate_distance(points,transitions[episode])))\n"
   ]
  },
  {
   "cell_type": "code",
   "execution_count": 22,
   "metadata": {},
   "outputs": [],
   "source": [
    "def create_map(points):\n",
    "    point_map = {}\n",
    "    for i,p in enumerate(points):\n",
    "        point_map[(p[0], p[1])] = i\n",
    "    return point_map"
   ]
  },
  {
   "cell_type": "code",
   "execution_count": 23,
   "metadata": {},
   "outputs": [
    {
     "name": "stdout",
     "output_type": "stream",
     "text": [
      "tensor([0.7008, 0.1834, 0.7008, 0.1834, 0.4100, 0.1050, 0.2396, 0.1136, 0.0087,\n",
      "        0.8142, 0.4405, 0.7155])\n",
      "[ 0.7008283   0.18339306  0.00869442  0.81419548  0.40999364  0.10497416\n",
      "  0.23964594  0.11362983 -1.         -1.          0.44049597  0.71548573]\n",
      "tensor([ 0.7008,  0.1834,  0.0087,  0.8142,  0.4100,  0.1050,  0.2396,  0.1136,\n",
      "        -1.0000, -1.0000,  0.4405,  0.7155])\n",
      "[ 0.7008283   0.18339306  0.44049597  0.71548573  0.40999364  0.10497416\n",
      "  0.23964594  0.11362983 -1.         -1.         -1.         -1.        ]\n",
      "tensor([ 0.7008,  0.1834,  0.4405,  0.7155,  0.4100,  0.1050,  0.2396,  0.1136,\n",
      "        -1.0000, -1.0000, -1.0000, -1.0000])\n",
      "[ 0.7008283   0.18339306  0.23964594  0.11362983  0.40999364  0.10497416\n",
      " -1.         -1.         -1.         -1.         -1.         -1.        ]\n",
      "tensor([ 0.7008,  0.1834,  0.2396,  0.1136,  0.4100,  0.1050, -1.0000, -1.0000,\n",
      "        -1.0000, -1.0000, -1.0000, -1.0000])\n",
      "[ 0.7008283   0.18339306  0.40999364  0.10497416 -1.         -1.\n",
      " -1.         -1.         -1.         -1.         -1.         -1.        ]\n",
      "tensor([ 0.7008,  0.1834,  0.4100,  0.1050, -1.0000, -1.0000, -1.0000, -1.0000,\n",
      "        -1.0000, -1.0000, -1.0000, -1.0000])\n"
     ]
    },
    {
     "data": {
      "text/plain": [
       "[array([0.7008283 , 0.18339306]),\n",
       " array(0.00869442),\n",
       " array(0.44049597),\n",
       " array(0.23964594),\n",
       " array(0.40999364)]"
      ]
     },
     "execution_count": 23,
     "metadata": {},
     "output_type": "execute_result"
    }
   ],
   "source": [
    "main(10, points)"
   ]
  },
  {
   "cell_type": "code",
   "execution_count": null,
   "metadata": {},
   "outputs": [],
   "source": []
  },
  {
   "cell_type": "code",
   "execution_count": null,
   "metadata": {},
   "outputs": [],
   "source": []
  }
 ],
 "metadata": {
  "kernelspec": {
   "display_name": "Python 3",
   "language": "python",
   "name": "python3"
  },
  "language_info": {
   "codemirror_mode": {
    "name": "ipython",
    "version": 3
   },
   "file_extension": ".py",
   "mimetype": "text/x-python",
   "name": "python",
   "nbconvert_exporter": "python",
   "pygments_lexer": "ipython3",
   "version": "3.6.8"
  }
 },
 "nbformat": 4,
 "nbformat_minor": 2
}
